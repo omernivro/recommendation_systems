{
 "cells": [
  {
   "cell_type": "code",
   "execution_count": 8,
   "metadata": {
    "collapsed": false
   },
   "outputs": [
    {
     "name": "stdout",
     "output_type": "stream",
     "text": [
      "http://ec2-54-75-84-160.eu-west-1.compute.amazonaws.com/proxy/application_1504374591976_0001\n"
     ]
    }
   ],
   "source": [
    "import urllib\n",
    "import pandas as pd\n",
    "import numpy as np\n",
    "from pyspark.sql import Row\n",
    "from pyspark.sql.types import StringType, FloatType, ArrayType, IntegerType\n",
    "from datetime import datetime, timedelta,date\n",
    "from pyspark.sql.functions import expr,first,col,when,hour,date_format,rank,udf,dense_rank\n",
    "from pyspark.sql.window import Window\n",
    "from pyspark.ml.feature import OneHotEncoder, StringIndexer\n",
    "from pyspark.mllib.linalg import SparseVector, DenseVector\n",
    "import cPickle as pickle\n",
    "from pyspark.sql.functions import monotonically_increasing_id\n",
    "from pyspark.sql.types import StructType, StructField, DoubleType, IntegerType, StringType\n",
    "pd.options.display.max_columns = None\n",
    "pd.options.display.max_rows = None\n",
    "from pyspark.mllib.recommendation import ALS,MatrixFactorizationModel,Rating\n",
    "import math\n",
    "import random\n",
    "sc.setCheckpointDir('checkpoint/')\n",
    "\n",
    "print (\"http://\" + urllib.urlopen(\"http://169.254.169.254/latest/meta-data/public-hostname\").read() + \"/proxy/\" + sc.applicationId)"
   ]
  },
  {
   "cell_type": "markdown",
   "metadata": {},
   "source": [
    "training data split based on odering of shows watched: user based split"
   ]
  },
  {
   "cell_type": "code",
   "execution_count": 6,
   "metadata": {
    "collapsed": false
   },
   "outputs": [],
   "source": [
    "conViewsPos = sqlContext.read.parquet(\"s3://c4-ati/ampapalika/rnn/dataHashed/fullDataProcessedGenre\")\n",
    "#a1 = conViewsPos.count()\n",
    "#76,788,357"
   ]
  },
  {
   "cell_type": "code",
   "execution_count": 7,
   "metadata": {
    "collapsed": false
   },
   "outputs": [
    {
     "data": {
      "text/plain": [
       "[StructField(user,IntegerType,true),\n",
       " StructField(contract,IntegerType,true),\n",
       " StructField(episode,IntegerType,true),\n",
       " StructField(brand,StringType,true),\n",
       " StructField(conEpID,StringType,true),\n",
       " StructField(dateWatched,LongType,true),\n",
       " StructField(timeWatched,StringType,true),\n",
       " StructField(views,LongType,true),\n",
       " StructField(is_milestone_25,LongType,true),\n",
       " StructField(is_milestone_50,LongType,true),\n",
       " StructField(is_milestone_75,LongType,true),\n",
       " StructField(is_video_completion,LongType,true),\n",
       " StructField(p25,LongType,true),\n",
       " StructField(p50,LongType,true),\n",
       " StructField(p75,LongType,true),\n",
       " StructField(p100,LongType,true),\n",
       " StructField(docuVec,ArrayType(DoubleType,true),true),\n",
       " StructField(deviceDenVec,ArrayType(FloatType,true),true),\n",
       " StructField(dayPartDenVec,ArrayType(FloatType,true),true),\n",
       " StructField(dayOfWeekDenVec,ArrayType(FloatType,true),true),\n",
       " StructField(ageBinDenVec,ArrayType(FloatType,true),true),\n",
       " StructField(genderSalDenVec,ArrayType(FloatType,true),true),\n",
       " StructField(genreDenVec,ArrayType(FloatType,true),true)]"
      ]
     },
     "execution_count": 7,
     "metadata": {},
     "output_type": "execute_result"
    }
   ],
   "source": [
    "[f for f in conViewsPos.schema.fields]"
   ]
  },
  {
   "cell_type": "code",
   "execution_count": 37,
   "metadata": {
    "collapsed": true
   },
   "outputs": [],
   "source": [
    "#conViewsNS = sqlContext.read.parquet(\"s3://c4-ati/ampapalika/rnn/dataHashed/conViewsNS2T_2006-08_2016-11\")"
   ]
  },
  {
   "cell_type": "code",
   "execution_count": 38,
   "metadata": {
    "collapsed": false
   },
   "outputs": [
    {
     "data": {
      "text/plain": [
       "222832"
      ]
     },
     "execution_count": 38,
     "metadata": {},
     "output_type": "execute_result"
    }
   ],
   "source": [
    "conViewsNS.count()\n",
    "#222,832"
   ]
  },
  {
   "cell_type": "code",
   "execution_count": 4,
   "metadata": {
    "collapsed": false
   },
   "outputs": [
    {
     "data": {
      "text/plain": [
       "[StructField(user,IntegerType,true),\n",
       " StructField(contract,LongType,true),\n",
       " StructField(episode,LongType,true),\n",
       " StructField(conEpID,StringType,true),\n",
       " StructField(dateWatched,LongType,true),\n",
       " StructField(timeWatched,StringType,true),\n",
       " StructField(datasource,StringType,true),\n",
       " StructField(is_milestone_25,LongType,true),\n",
       " StructField(is_milestone_50,LongType,true),\n",
       " StructField(is_milestone_75,LongType,true),\n",
       " StructField(is_video_completion,LongType,true),\n",
       " StructField(p25,LongType,true),\n",
       " StructField(p50,LongType,true),\n",
       " StructField(p75,LongType,true),\n",
       " StructField(p100,LongType,true),\n",
       " StructField(views,LongType,true)]"
      ]
     },
     "execution_count": 4,
     "metadata": {},
     "output_type": "execute_result"
    }
   ],
   "source": [
    "[f for f in conViewsNS.schema.fields]"
   ]
  },
  {
   "cell_type": "code",
   "execution_count": 8,
   "metadata": {
    "collapsed": false
   },
   "outputs": [],
   "source": [
    "topTUsers = sqlContext.read.parquet(\"s3://c4-ati/ampapalika/rnn/dataHashed/top2TUsersGenre\")\n",
    "conViewsPos = (conViewsPos.alias(\"conViewsPos\")\n",
    "            .join(topTUsers, [topTUsers.user ==conViewsPos.user], 'inner')\n",
    "            .select(conViewsPos.user,conViewsPos.conEpID,conViewsPos.timeWatched))\n"
   ]
  },
  {
   "cell_type": "code",
   "execution_count": 9,
   "metadata": {
    "collapsed": true
   },
   "outputs": [],
   "source": [
    "def randNumber():\n",
    "\n",
    "    return random.random()\n",
    "\n",
    "randNumberUdf = udf(randNumber,FloatType())\n",
    "\n",
    "conViewsPos = conViewsPos.withColumn('randGenNum', randNumberUdf())"
   ]
  },
  {
   "cell_type": "code",
   "execution_count": 12,
   "metadata": {
    "collapsed": false
   },
   "outputs": [
    {
     "data": {
      "text/html": [
       "<div>\n",
       "<table border=\"1\" class=\"dataframe\">\n",
       "  <thead>\n",
       "    <tr style=\"text-align: right;\">\n",
       "      <th></th>\n",
       "      <th>user</th>\n",
       "      <th>conEpID</th>\n",
       "      <th>timeWatched</th>\n",
       "      <th>randGenNum</th>\n",
       "    </tr>\n",
       "  </thead>\n",
       "  <tbody>\n",
       "    <tr>\n",
       "      <th>0</th>\n",
       "      <td>349092</td>\n",
       "      <td>55221_17</td>\n",
       "      <td>2016-09-09T04:27:40</td>\n",
       "      <td>0.812481</td>\n",
       "    </tr>\n",
       "    <tr>\n",
       "      <th>1</th>\n",
       "      <td>349092</td>\n",
       "      <td>58915_3</td>\n",
       "      <td>2016-09-15T04:08:26</td>\n",
       "      <td>0.288449</td>\n",
       "    </tr>\n",
       "    <tr>\n",
       "      <th>2</th>\n",
       "      <td>349092</td>\n",
       "      <td>61249_49</td>\n",
       "      <td>2016-09-20T12:52:39</td>\n",
       "      <td>0.740135</td>\n",
       "    </tr>\n",
       "    <tr>\n",
       "      <th>3</th>\n",
       "      <td>896282</td>\n",
       "      <td>58915_16</td>\n",
       "      <td>2016-04-03T19:22:45</td>\n",
       "      <td>0.367071</td>\n",
       "    </tr>\n",
       "    <tr>\n",
       "      <th>4</th>\n",
       "      <td>896282</td>\n",
       "      <td>61204_26</td>\n",
       "      <td>2016-04-16T02:05:35</td>\n",
       "      <td>0.428354</td>\n",
       "    </tr>\n",
       "    <tr>\n",
       "      <th>5</th>\n",
       "      <td>1031500</td>\n",
       "      <td>58653_2</td>\n",
       "      <td>2016-05-31T23:47:44</td>\n",
       "      <td>0.797702</td>\n",
       "    </tr>\n",
       "    <tr>\n",
       "      <th>6</th>\n",
       "      <td>1031500</td>\n",
       "      <td>51381_13</td>\n",
       "      <td>2016-07-26T04:36:04</td>\n",
       "      <td>0.562618</td>\n",
       "    </tr>\n",
       "    <tr>\n",
       "      <th>7</th>\n",
       "      <td>1031500</td>\n",
       "      <td>61072_1</td>\n",
       "      <td>2016-08-18T15:33:48</td>\n",
       "      <td>0.198420</td>\n",
       "    </tr>\n",
       "    <tr>\n",
       "      <th>8</th>\n",
       "      <td>1956147</td>\n",
       "      <td>59746_4</td>\n",
       "      <td>2016-01-13T13:25:33</td>\n",
       "      <td>0.982749</td>\n",
       "    </tr>\n",
       "    <tr>\n",
       "      <th>9</th>\n",
       "      <td>3055766</td>\n",
       "      <td>59335_228</td>\n",
       "      <td>2015-11-14T00:28:27</td>\n",
       "      <td>0.557462</td>\n",
       "    </tr>\n",
       "  </tbody>\n",
       "</table>\n",
       "</div>"
      ],
      "text/plain": [
       "      user    conEpID          timeWatched  randGenNum\n",
       "0   349092   55221_17  2016-09-09T04:27:40    0.812481\n",
       "1   349092    58915_3  2016-09-15T04:08:26    0.288449\n",
       "2   349092   61249_49  2016-09-20T12:52:39    0.740135\n",
       "3   896282   58915_16  2016-04-03T19:22:45    0.367071\n",
       "4   896282   61204_26  2016-04-16T02:05:35    0.428354\n",
       "5  1031500    58653_2  2016-05-31T23:47:44    0.797702\n",
       "6  1031500   51381_13  2016-07-26T04:36:04    0.562618\n",
       "7  1031500    61072_1  2016-08-18T15:33:48    0.198420\n",
       "8  1956147    59746_4  2016-01-13T13:25:33    0.982749\n",
       "9  3055766  59335_228  2015-11-14T00:28:27    0.557462"
      ]
     },
     "execution_count": 12,
     "metadata": {},
     "output_type": "execute_result"
    }
   ],
   "source": [
    "conViewsPos.limit(10).toPandas()"
   ]
  },
  {
   "cell_type": "code",
   "execution_count": 10,
   "metadata": {
    "collapsed": false
   },
   "outputs": [],
   "source": [
    "window = Window.partitionBy(conViewsPos['user']).orderBy(conViewsPos['randGenNum'])\n",
    "conViewsPos = (conViewsPos.alias('conViewsPos').select('conViewsPos.*',dense_rank().over(window).alias('PUVrank')))"
   ]
  },
  {
   "cell_type": "code",
   "execution_count": 14,
   "metadata": {
    "collapsed": false
   },
   "outputs": [
    {
     "data": {
      "text/plain": [
       "481338"
      ]
     },
     "execution_count": 14,
     "metadata": {},
     "output_type": "execute_result"
    }
   ],
   "source": [
    "conViewsPos.count()\n",
    "#481,338"
   ]
  },
  {
   "cell_type": "code",
   "execution_count": 19,
   "metadata": {
    "collapsed": false
   },
   "outputs": [
    {
     "data": {
      "text/plain": [
       "2000"
      ]
     },
     "execution_count": 19,
     "metadata": {},
     "output_type": "execute_result"
    }
   ],
   "source": [
    "topTUsers.count()"
   ]
  },
  {
   "cell_type": "code",
   "execution_count": 20,
   "metadata": {
    "collapsed": false
   },
   "outputs": [
    {
     "data": {
      "text/plain": [
       "2000"
      ]
     },
     "execution_count": 20,
     "metadata": {},
     "output_type": "execute_result"
    }
   ],
   "source": [
    "conViewsPos.select('user').distinct().count()"
   ]
  },
  {
   "cell_type": "code",
   "execution_count": 23,
   "metadata": {
    "collapsed": false
   },
   "outputs": [
    {
     "data": {
      "text/plain": [
       "7738"
      ]
     },
     "execution_count": 23,
     "metadata": {},
     "output_type": "execute_result"
    }
   ],
   "source": [
    "conViewsPos.select('conEpID').distinct().count()"
   ]
  },
  {
   "cell_type": "code",
   "execution_count": 15,
   "metadata": {
    "collapsed": false
   },
   "outputs": [
    {
     "data": {
      "text/plain": [
       "189"
      ]
     },
     "execution_count": 15,
     "metadata": {},
     "output_type": "execute_result"
    }
   ],
   "source": [
    "minCount = topTUsers.agg({\"count\": \"min\"}).collect()[0][\"min(count)\"]\n",
    "minCount\n",
    "# 189"
   ]
  },
  {
   "cell_type": "code",
   "execution_count": 11,
   "metadata": {
    "collapsed": true
   },
   "outputs": [],
   "source": [
    "testRank = 50\n",
    "\n",
    "testData = (conViewsPos\n",
    "                    .filter(conViewsPos.PUVrank <= testRank))\n",
    "\n",
    "trainData = (conViewsPos\n",
    "                    .filter(conViewsPos.PUVrank > testRank))"
   ]
  },
  {
   "cell_type": "code",
   "execution_count": 35,
   "metadata": {
    "collapsed": false
   },
   "outputs": [
    {
     "data": {
      "text/plain": [
       "481338"
      ]
     },
     "execution_count": 35,
     "metadata": {},
     "output_type": "execute_result"
    }
   ],
   "source": [
    "conViewsPos.count()"
   ]
  },
  {
   "cell_type": "code",
   "execution_count": 17,
   "metadata": {
    "collapsed": false
   },
   "outputs": [
    {
     "data": {
      "text/plain": [
       "101948"
      ]
     },
     "execution_count": 17,
     "metadata": {},
     "output_type": "execute_result"
    }
   ],
   "source": [
    "testData.count()"
   ]
  },
  {
   "cell_type": "code",
   "execution_count": 9,
   "metadata": {
    "collapsed": true,
    "scrolled": false
   },
   "outputs": [],
   "source": [
    "conEpIndex = (conViewsPos.select('conEpID').distinct()\n",
    "              .unionAll(conViewsNS.select('conEpID').distinct())\n",
    "              .rdd\n",
    "            .map(lambda x: x.conEpID)\n",
    "            .distinct()\n",
    "            .zipWithIndex()\n",
    "            .map(lambda (conEpID,index): Row(conEpID =conEpID, conEpIndex=index))).toDF()\n",
    "#conEpIndex.write.parquet(\"s3://c4-ati/ampapalika/rnn/dataHashed/conEpIndex2TMF\")"
   ]
  },
  {
   "cell_type": "code",
   "execution_count": 12,
   "metadata": {
    "collapsed": true
   },
   "outputs": [],
   "source": [
    "conEpIndex = sqlContext.read.parquet(\"s3://c4-ati/ampapalika/rnn/dataHashed/conEpIndex2TMF\")"
   ]
  },
  {
   "cell_type": "code",
   "execution_count": 24,
   "metadata": {
    "collapsed": false
   },
   "outputs": [
    {
     "data": {
      "text/plain": [
       "7738"
      ]
     },
     "execution_count": 24,
     "metadata": {},
     "output_type": "execute_result"
    }
   ],
   "source": [
    "conEpIndex.count()"
   ]
  },
  {
   "cell_type": "code",
   "execution_count": 10,
   "metadata": {
    "collapsed": true
   },
   "outputs": [],
   "source": [
    "viewerIndex = (conViewsPos.select('user').distinct()\n",
    "              .unionAll(conViewsNS.select('user').distinct())\n",
    "               .rdd\n",
    "            .map(lambda x: x.user)\n",
    "            .distinct()\n",
    "            .zipWithIndex()\n",
    "            .map(lambda (viewer,index): Row(user =viewer, userIndex=index))).toDF()\n",
    "#viewerIndex.write.parquet(\"s3://c4-ati/ampapalika/rnn/dataHashed/viewerIndex2TMF\")"
   ]
  },
  {
   "cell_type": "code",
   "execution_count": 13,
   "metadata": {
    "collapsed": true
   },
   "outputs": [],
   "source": [
    "viewerIndex = sqlContext.read.parquet(\"s3://c4-ati/ampapalika/rnn/dataHashed/viewerIndex2TMF\")"
   ]
  },
  {
   "cell_type": "code",
   "execution_count": 25,
   "metadata": {
    "collapsed": false
   },
   "outputs": [
    {
     "data": {
      "text/plain": [
       "2000"
      ]
     },
     "execution_count": 25,
     "metadata": {},
     "output_type": "execute_result"
    }
   ],
   "source": [
    "viewerIndex.count()"
   ]
  },
  {
   "cell_type": "code",
   "execution_count": 14,
   "metadata": {
    "collapsed": false
   },
   "outputs": [],
   "source": [
    "testData = (testData.alias('testData')\n",
    "               .join(viewerIndex,[viewerIndex.user==testData.user],'inner')\n",
    "               .join(conEpIndex,[conEpIndex.conEpID==testData.conEpID],'inner')\n",
    "               .select('testData.*',viewerIndex.userIndex,conEpIndex.conEpIndex))"
   ]
  },
  {
   "cell_type": "code",
   "execution_count": 15,
   "metadata": {
    "collapsed": true
   },
   "outputs": [],
   "source": [
    "trainData = (trainData.alias('trainData')\n",
    "               .join(viewerIndex,[viewerIndex.user==trainData.user],'inner')\n",
    "               .join(conEpIndex,[conEpIndex.conEpID==trainData.conEpID],'inner')\n",
    "               .select('trainData.*',viewerIndex.userIndex,conEpIndex.conEpIndex))\n",
    "\n",
    "trainData = (trainData\n",
    "                .rdd\n",
    "                .map(lambda y: Row(userIndex =y.userIndex,conEpIndex=y.conEpIndex,score = 1))\n",
    "                .toDF())"
   ]
  },
  {
   "cell_type": "code",
   "execution_count": null,
   "metadata": {
    "collapsed": false
   },
   "outputs": [],
   "source": [
    "conViewsNS = sqlContext.read.parquet(\"s3://c4-ati/ampapalika/rnn/dataHashed/conViewsNS2T_2006-08_2016-11\")\n",
    "[f for f in conViewsNS.schema.fields]"
   ]
  },
  {
   "cell_type": "code",
   "execution_count": null,
   "metadata": {
    "collapsed": true
   },
   "outputs": [],
   "source": [
    "# conViewsNS = (conViewsNS.alias('conViewsNS')\n",
    "#                .join(viewerIndex,[viewerIndex.user==conViewsNS.user],'inner')\n",
    "#                .join(conEpIndex,[conEpIndex.conEpID==conViewsNS.conEpID],'inner')\n",
    "#                .select('conViewsNS.*',viewerIndex.userIndex,conEpIndex.conEpIndex))"
   ]
  },
  {
   "cell_type": "code",
   "execution_count": 4,
   "metadata": {
    "collapsed": false
   },
   "outputs": [],
   "source": [
    "conViewsNS = (conViewsNS\n",
    "                .rdd\n",
    "                .map(lambda y: Row(userIndex =y.userIndex,conEpIndex=y.conEpIndex,score = 0))\n",
    "                .toDF())"
   ]
  },
  {
   "cell_type": "code",
   "execution_count": 5,
   "metadata": {
    "collapsed": false
   },
   "outputs": [
    {
     "data": {
      "text/plain": [
       "89639"
      ]
     },
     "execution_count": 5,
     "metadata": {},
     "output_type": "execute_result"
    }
   ],
   "source": [
    "conViewsNS.count()"
   ]
  },
  {
   "cell_type": "code",
   "execution_count": 16,
   "metadata": {
    "collapsed": true
   },
   "outputs": [],
   "source": [
    "trainData = trainData.unionAll(conViewsNS)"
   ]
  },
  {
   "cell_type": "code",
   "execution_count": 30,
   "metadata": {
    "collapsed": false
   },
   "outputs": [
    {
     "data": {
      "text/html": [
       "<div>\n",
       "<table border=\"1\" class=\"dataframe\">\n",
       "  <thead>\n",
       "    <tr style=\"text-align: right;\">\n",
       "      <th></th>\n",
       "      <th>conEpIndex</th>\n",
       "      <th>score</th>\n",
       "      <th>userIndex</th>\n",
       "    </tr>\n",
       "  </thead>\n",
       "  <tbody>\n",
       "    <tr>\n",
       "      <th>0</th>\n",
       "      <td>2905</td>\n",
       "      <td>1</td>\n",
       "      <td>1813</td>\n",
       "    </tr>\n",
       "    <tr>\n",
       "      <th>1</th>\n",
       "      <td>6069</td>\n",
       "      <td>1</td>\n",
       "      <td>1813</td>\n",
       "    </tr>\n",
       "    <tr>\n",
       "      <th>2</th>\n",
       "      <td>7471</td>\n",
       "      <td>1</td>\n",
       "      <td>1813</td>\n",
       "    </tr>\n",
       "    <tr>\n",
       "      <th>3</th>\n",
       "      <td>5962</td>\n",
       "      <td>1</td>\n",
       "      <td>1813</td>\n",
       "    </tr>\n",
       "    <tr>\n",
       "      <th>4</th>\n",
       "      <td>3965</td>\n",
       "      <td>1</td>\n",
       "      <td>1813</td>\n",
       "    </tr>\n",
       "  </tbody>\n",
       "</table>\n",
       "</div>"
      ],
      "text/plain": [
       "   conEpIndex  score  userIndex\n",
       "0        2905      1       1813\n",
       "1        6069      1       1813\n",
       "2        7471      1       1813\n",
       "3        5962      1       1813\n",
       "4        3965      1       1813"
      ]
     },
     "execution_count": 30,
     "metadata": {},
     "output_type": "execute_result"
    }
   ],
   "source": [
    "trainData.limit(5).toPandas()"
   ]
  },
  {
   "cell_type": "code",
   "execution_count": 31,
   "metadata": {
    "collapsed": false
   },
   "outputs": [
    {
     "data": {
      "text/plain": [
       "[StructField(user,IntegerType,true),\n",
       " StructField(conEpID,StringType,true),\n",
       " StructField(timeWatched,StringType,true),\n",
       " StructField(randGenNum,FloatType,true),\n",
       " StructField(PUVrank,IntegerType,true),\n",
       " StructField(userIndex,LongType,true),\n",
       " StructField(conEpIndex,LongType,true)]"
      ]
     },
     "execution_count": 31,
     "metadata": {},
     "output_type": "execute_result"
    }
   ],
   "source": [
    "[f for f in testData.schema.fields]"
   ]
  },
  {
   "cell_type": "code",
   "execution_count": 32,
   "metadata": {
    "collapsed": false
   },
   "outputs": [
    {
     "data": {
      "text/html": [
       "<div>\n",
       "<table border=\"1\" class=\"dataframe\">\n",
       "  <thead>\n",
       "    <tr style=\"text-align: right;\">\n",
       "      <th></th>\n",
       "      <th>user</th>\n",
       "      <th>conEpID</th>\n",
       "      <th>timeWatched</th>\n",
       "      <th>randGenNum</th>\n",
       "      <th>PUVrank</th>\n",
       "      <th>userIndex</th>\n",
       "      <th>conEpIndex</th>\n",
       "    </tr>\n",
       "  </thead>\n",
       "  <tbody>\n",
       "    <tr>\n",
       "      <th>0</th>\n",
       "      <td>291986224</td>\n",
       "      <td>61204_9</td>\n",
       "      <td>2016-09-17T18:08:12</td>\n",
       "      <td>0.008656</td>\n",
       "      <td>1</td>\n",
       "      <td>1813</td>\n",
       "      <td>6128</td>\n",
       "    </tr>\n",
       "    <tr>\n",
       "      <th>1</th>\n",
       "      <td>291986224</td>\n",
       "      <td>61625_1</td>\n",
       "      <td>2015-11-05T13:02:39</td>\n",
       "      <td>0.016553</td>\n",
       "      <td>2</td>\n",
       "      <td>1813</td>\n",
       "      <td>4688</td>\n",
       "    </tr>\n",
       "    <tr>\n",
       "      <th>2</th>\n",
       "      <td>291986224</td>\n",
       "      <td>58164_15</td>\n",
       "      <td>2015-10-05T01:37:57</td>\n",
       "      <td>0.032510</td>\n",
       "      <td>3</td>\n",
       "      <td>1813</td>\n",
       "      <td>1500</td>\n",
       "    </tr>\n",
       "    <tr>\n",
       "      <th>3</th>\n",
       "      <td>291986224</td>\n",
       "      <td>59869_1</td>\n",
       "      <td>2016-07-23T20:03:08</td>\n",
       "      <td>0.032633</td>\n",
       "      <td>4</td>\n",
       "      <td>1813</td>\n",
       "      <td>4640</td>\n",
       "    </tr>\n",
       "    <tr>\n",
       "      <th>4</th>\n",
       "      <td>291986224</td>\n",
       "      <td>61204_4</td>\n",
       "      <td>2016-08-30T22:50:52</td>\n",
       "      <td>0.033283</td>\n",
       "      <td>5</td>\n",
       "      <td>1813</td>\n",
       "      <td>6805</td>\n",
       "    </tr>\n",
       "  </tbody>\n",
       "</table>\n",
       "</div>"
      ],
      "text/plain": [
       "        user   conEpID          timeWatched  randGenNum  PUVrank  userIndex  \\\n",
       "0  291986224   61204_9  2016-09-17T18:08:12    0.008656        1       1813   \n",
       "1  291986224   61625_1  2015-11-05T13:02:39    0.016553        2       1813   \n",
       "2  291986224  58164_15  2015-10-05T01:37:57    0.032510        3       1813   \n",
       "3  291986224   59869_1  2016-07-23T20:03:08    0.032633        4       1813   \n",
       "4  291986224   61204_4  2016-08-30T22:50:52    0.033283        5       1813   \n",
       "\n",
       "   conEpIndex  \n",
       "0        6128  \n",
       "1        4688  \n",
       "2        1500  \n",
       "3        4640  \n",
       "4        6805  "
      ]
     },
     "execution_count": 32,
     "metadata": {},
     "output_type": "execute_result"
    }
   ],
   "source": [
    "testData.limit(5).toPandas()"
   ]
  },
  {
   "cell_type": "code",
   "execution_count": 9,
   "metadata": {
    "collapsed": false
   },
   "outputs": [],
   "source": [
    "schema = StructType([\n",
    "    StructField(\"userIndex\", IntegerType()),\n",
    "    StructField(\"conEpIndex\", IntegerType()),\n",
    "    StructField(\"score\", IntegerType())\n",
    "])\n",
    "trainData = (sqlContext\n",
    "             .read\n",
    "             .schema(schema)\n",
    "             .csv(\"s3://c4-ati/ampapalika/rnn/dataHashed/MFTrainData_top1000\"))"
   ]
  },
  {
   "cell_type": "code",
   "execution_count": 10,
   "metadata": {
    "collapsed": false
   },
   "outputs": [
    {
     "data": {
      "text/html": [
       "<div>\n",
       "<table border=\"1\" class=\"dataframe\">\n",
       "  <thead>\n",
       "    <tr style=\"text-align: right;\">\n",
       "      <th></th>\n",
       "      <th>userIndex</th>\n",
       "      <th>conEpIndex</th>\n",
       "      <th>score</th>\n",
       "    </tr>\n",
       "  </thead>\n",
       "  <tbody>\n",
       "    <tr>\n",
       "      <th>0</th>\n",
       "      <td>1653</td>\n",
       "      <td>4171</td>\n",
       "      <td>1</td>\n",
       "    </tr>\n",
       "    <tr>\n",
       "      <th>1</th>\n",
       "      <td>1653</td>\n",
       "      <td>559</td>\n",
       "      <td>1</td>\n",
       "    </tr>\n",
       "    <tr>\n",
       "      <th>2</th>\n",
       "      <td>1653</td>\n",
       "      <td>5229</td>\n",
       "      <td>1</td>\n",
       "    </tr>\n",
       "    <tr>\n",
       "      <th>3</th>\n",
       "      <td>1653</td>\n",
       "      <td>2958</td>\n",
       "      <td>1</td>\n",
       "    </tr>\n",
       "    <tr>\n",
       "      <th>4</th>\n",
       "      <td>1653</td>\n",
       "      <td>7160</td>\n",
       "      <td>1</td>\n",
       "    </tr>\n",
       "    <tr>\n",
       "      <th>5</th>\n",
       "      <td>1653</td>\n",
       "      <td>1638</td>\n",
       "      <td>1</td>\n",
       "    </tr>\n",
       "    <tr>\n",
       "      <th>6</th>\n",
       "      <td>1653</td>\n",
       "      <td>6813</td>\n",
       "      <td>1</td>\n",
       "    </tr>\n",
       "    <tr>\n",
       "      <th>7</th>\n",
       "      <td>1653</td>\n",
       "      <td>1649</td>\n",
       "      <td>1</td>\n",
       "    </tr>\n",
       "    <tr>\n",
       "      <th>8</th>\n",
       "      <td>1653</td>\n",
       "      <td>4158</td>\n",
       "      <td>1</td>\n",
       "    </tr>\n",
       "    <tr>\n",
       "      <th>9</th>\n",
       "      <td>1653</td>\n",
       "      <td>4208</td>\n",
       "      <td>1</td>\n",
       "    </tr>\n",
       "  </tbody>\n",
       "</table>\n",
       "</div>"
      ],
      "text/plain": [
       "   userIndex  conEpIndex  score\n",
       "0       1653        4171      1\n",
       "1       1653         559      1\n",
       "2       1653        5229      1\n",
       "3       1653        2958      1\n",
       "4       1653        7160      1\n",
       "5       1653        1638      1\n",
       "6       1653        6813      1\n",
       "7       1653        1649      1\n",
       "8       1653        4158      1\n",
       "9       1653        4208      1"
      ]
     },
     "execution_count": 10,
     "metadata": {},
     "output_type": "execute_result"
    }
   ],
   "source": [
    "trainData.limit(10).toPandas()"
   ]
  },
  {
   "cell_type": "markdown",
   "metadata": {},
   "source": [
    "Making user features that also include the last N shows that a user has watched"
   ]
  },
  {
   "cell_type": "code",
   "execution_count": 11,
   "metadata": {
    "collapsed": false
   },
   "outputs": [],
   "source": [
    "trainRatings = trainData.rdd.map(lambda y: Rating(int(y.userIndex), int(y.conEpIndex), float(y.score)))  "
   ]
  },
  {
   "cell_type": "code",
   "execution_count": 39,
   "metadata": {
    "collapsed": false
   },
   "outputs": [
    {
     "data": {
      "text/plain": [
       "466259"
      ]
     },
     "execution_count": 39,
     "metadata": {},
     "output_type": "execute_result"
    }
   ],
   "source": [
    "trainRatings.count()\n",
    "#469092"
   ]
  },
  {
   "cell_type": "code",
   "execution_count": 40,
   "metadata": {
    "collapsed": false
   },
   "outputs": [],
   "source": [
    "rank = 150\n",
    "iterations = 100\n",
    "alpha = 40.0\n",
    "lambda_=0.01\n",
    "#, alpha =alpha, lambda_= lambda_\n",
    "MF = ALS.train(trainRatings, rank = rank, iterations = iterations, lambda_= lambda_)\n",
    "#MF = ALS.trainImplicit(trainRatings, rank = rank, iterations = iterations, lambda_= lambda_, alpha =alpha)\n",
    "MF.save(sc, 's3://c4-ati/ampapalika/rnn/dataHashed/MFmodel2/')\n",
    "#MF.save(sc, 's3://c4-ati/ampapalika/rnn/dataHashed/MFmodelImp/')"
   ]
  },
  {
   "cell_type": "code",
   "execution_count": 14,
   "metadata": {
    "collapsed": true
   },
   "outputs": [],
   "source": [
    "MF.save(sc, 's3://c4-ati/ampapalika/rnn/dataHashed/MFmodelImp/')"
   ]
  },
  {
   "cell_type": "code",
   "execution_count": 62,
   "metadata": {
    "collapsed": false
   },
   "outputs": [
    {
     "data": {
      "text/plain": [
       "[Rating(user=1813, product=5982, rating=1.0),\n",
       " Rating(user=1813, product=6839, rating=1.0),\n",
       " Rating(user=1813, product=6789, rating=1.0),\n",
       " Rating(user=1813, product=6266, rating=1.0),\n",
       " Rating(user=1813, product=4521, rating=1.0),\n",
       " Rating(user=1813, product=4283, rating=1.0),\n",
       " Rating(user=1813, product=4234, rating=1.0),\n",
       " Rating(user=1813, product=4184, rating=1.0),\n",
       " Rating(user=1813, product=4137, rating=1.0),\n",
       " Rating(user=1813, product=4036, rating=1.0)]"
      ]
     },
     "execution_count": 62,
     "metadata": {},
     "output_type": "execute_result"
    }
   ],
   "source": [
    "trainRatings.take(10)"
   ]
  },
  {
   "cell_type": "code",
   "execution_count": 36,
   "metadata": {
    "collapsed": false
   },
   "outputs": [],
   "source": [
    "MF = MatrixFactorizationModel.load(sc, 's3://c4-ati/ampapalika/rnn/dataHashed/MFmodel2/')\n"
   ]
  },
  {
   "cell_type": "code",
   "execution_count": 28,
   "metadata": {
    "collapsed": false
   },
   "outputs": [
    {
     "data": {
      "text/plain": [
       "pyspark.rdd.PipelinedRDD"
      ]
     },
     "execution_count": 28,
     "metadata": {},
     "output_type": "execute_result"
    }
   ],
   "source": [
    "type(MF.userFeatures())"
   ]
  },
  {
   "cell_type": "code",
   "execution_count": 32,
   "metadata": {
    "collapsed": false
   },
   "outputs": [],
   "source": [
    "userFeats = MF.productFeatures().toDF()"
   ]
  },
  {
   "cell_type": "code",
   "execution_count": 33,
   "metadata": {
    "collapsed": false
   },
   "outputs": [
    {
     "name": "stdout",
     "output_type": "stream",
     "text": [
      "+---+--------------------+\n",
      "| _1|                  _2|\n",
      "+---+--------------------+\n",
      "|  0|[0.39626765251159...|\n",
      "| 64|[-0.0213783737272...|\n",
      "|128|[0.14115346968173...|\n",
      "+---+--------------------+\n",
      "only showing top 3 rows\n",
      "\n"
     ]
    }
   ],
   "source": [
    "userF.show(3)"
   ]
  },
  {
   "cell_type": "code",
   "execution_count": 41,
   "metadata": {
    "collapsed": true
   },
   "outputs": [],
   "source": [
    "productFeats = MF.productFeatures().toDF()\n",
    "productFeats = (productFeats\n",
    "                 .rdd\n",
    "                 .map(lambda y : Row(video_feats\n",
    "                                             ='{},{}'.format(y._1,\n",
    "                                                             ','.join([str(e) for e in y._2])))\n",
    "                             )).toDF()\n",
    "\n",
    "\n",
    "\n",
    "(productFeats\n",
    " .coalesce(1)\n",
    " .write\n",
    " .format(\"com.databricks.spark.csv\")\n",
    " .option(\"delimiter\", \"|\")\n",
    " .save(\"s3://c4-ati/ampapalika/rnn/dataHashed/videoFeatsMF\"))"
   ]
  },
  {
   "cell_type": "code",
   "execution_count": 43,
   "metadata": {
    "collapsed": false
   },
   "outputs": [],
   "source": [
    "userFeats = MF.userFeatures().toDF()\n",
    "userFeats = (userFeats\n",
    "                 .rdd\n",
    "                 .map(lambda y : Row(user_feats\n",
    "                                             ='{},{}'.format(y._1,\n",
    "                                                             ','.join([str(e) for e in y._2])))\n",
    "                             )).toDF()\n",
    "\n",
    "\n",
    "\n",
    "(userFeats\n",
    " .coalesce(1)\n",
    " .write\n",
    " .format(\"com.databricks.spark.csv\")\n",
    " .option(\"delimiter\", \"|\")\n",
    " .save(\"s3://c4-ati/ampapalika/rnn/dataHashed/userFeatsMF\"))"
   ]
  },
  {
   "cell_type": "code",
   "execution_count": 15,
   "metadata": {
    "collapsed": false
   },
   "outputs": [],
   "source": [
    "# Make our predictions, save output\n",
    "recs_top = (MF\n",
    "         .recommendProductsForUsers(1000)\n",
    "         .map(lambda (userIndex, items): (userIndex, [item.product for item in items]))\n",
    "         .cache())\n",
    "\n",
    "recs_top = sqlContext.createDataFrame(recs_top, [\"userIndex\", \"conEpIndex_top_n\"])\n"
   ]
  },
  {
   "cell_type": "code",
   "execution_count": 21,
   "metadata": {
    "collapsed": false
   },
   "outputs": [
    {
     "data": {
      "text/html": [
       "<div>\n",
       "<table border=\"1\" class=\"dataframe\">\n",
       "  <thead>\n",
       "    <tr style=\"text-align: right;\">\n",
       "      <th></th>\n",
       "      <th>userIndex</th>\n",
       "      <th>conEpIndex_top_n</th>\n",
       "    </tr>\n",
       "  </thead>\n",
       "  <tbody>\n",
       "    <tr>\n",
       "      <th>0</th>\n",
       "      <td>1792</td>\n",
       "      <td>[1390, 515, 736, 7734, 496, 7604, 987, 211, 14...</td>\n",
       "    </tr>\n",
       "    <tr>\n",
       "      <th>1</th>\n",
       "      <td>1984</td>\n",
       "      <td>[377, 448, 208, 92, 16, 2422, 3063, 127, 360, ...</td>\n",
       "    </tr>\n",
       "    <tr>\n",
       "      <th>2</th>\n",
       "      <td>512</td>\n",
       "      <td>[1390, 515, 736, 1473, 496, 987, 7734, 7604, 2...</td>\n",
       "    </tr>\n",
       "    <tr>\n",
       "      <th>3</th>\n",
       "      <td>1216</td>\n",
       "      <td>[4640, 4588, 4848, 4782, 4630, 3276, 7598, 752...</td>\n",
       "    </tr>\n",
       "    <tr>\n",
       "      <th>4</th>\n",
       "      <td>704</td>\n",
       "      <td>[377, 208, 647, 5043, 448, 281, 576, 360, 2422...</td>\n",
       "    </tr>\n",
       "    <tr>\n",
       "      <th>5</th>\n",
       "      <td>320</td>\n",
       "      <td>[3267, 1173, 1568, 3767, 1563, 3714, 1189, 321...</td>\n",
       "    </tr>\n",
       "    <tr>\n",
       "      <th>6</th>\n",
       "      <td>1856</td>\n",
       "      <td>[1139, 1450, 1298, 4025, 3949, 1497, 3979, 152...</td>\n",
       "    </tr>\n",
       "    <tr>\n",
       "      <th>7</th>\n",
       "      <td>1536</td>\n",
       "      <td>[208, 377, 92, 3063, 5751, 1855, 1812, 448, 61...</td>\n",
       "    </tr>\n",
       "    <tr>\n",
       "      <th>8</th>\n",
       "      <td>128</td>\n",
       "      <td>[377, 208, 448, 647, 281, 92, 127, 360, 576, 1...</td>\n",
       "    </tr>\n",
       "    <tr>\n",
       "      <th>9</th>\n",
       "      <td>1088</td>\n",
       "      <td>[4566, 5025, 5076, 4676, 6609, 4722, 4680, 669...</td>\n",
       "    </tr>\n",
       "  </tbody>\n",
       "</table>\n",
       "</div>"
      ],
      "text/plain": [
       "   userIndex                                   conEpIndex_top_n\n",
       "0       1792  [1390, 515, 736, 7734, 496, 7604, 987, 211, 14...\n",
       "1       1984  [377, 448, 208, 92, 16, 2422, 3063, 127, 360, ...\n",
       "2        512  [1390, 515, 736, 1473, 496, 987, 7734, 7604, 2...\n",
       "3       1216  [4640, 4588, 4848, 4782, 4630, 3276, 7598, 752...\n",
       "4        704  [377, 208, 647, 5043, 448, 281, 576, 360, 2422...\n",
       "5        320  [3267, 1173, 1568, 3767, 1563, 3714, 1189, 321...\n",
       "6       1856  [1139, 1450, 1298, 4025, 3949, 1497, 3979, 152...\n",
       "7       1536  [208, 377, 92, 3063, 5751, 1855, 1812, 448, 61...\n",
       "8        128  [377, 208, 448, 647, 281, 92, 127, 360, 576, 1...\n",
       "9       1088  [4566, 5025, 5076, 4676, 6609, 4722, 4680, 669..."
      ]
     },
     "execution_count": 21,
     "metadata": {},
     "output_type": "execute_result"
    }
   ],
   "source": [
    "recs_top.limit(10).toPandas()"
   ]
  },
  {
   "cell_type": "code",
   "execution_count": 67,
   "metadata": {
    "collapsed": false
   },
   "outputs": [
    {
     "data": {
      "text/html": [
       "<div>\n",
       "<table border=\"1\" class=\"dataframe\">\n",
       "  <thead>\n",
       "    <tr style=\"text-align: right;\">\n",
       "      <th></th>\n",
       "      <th>userIndex</th>\n",
       "      <th>conEpIndex_top_n</th>\n",
       "    </tr>\n",
       "  </thead>\n",
       "  <tbody>\n",
       "    <tr>\n",
       "      <th>0</th>\n",
       "      <td>160</td>\n",
       "      <td>[5751, 5692, 5551, 2308, 5967, 2028, 2193, 233...</td>\n",
       "    </tr>\n",
       "    <tr>\n",
       "      <th>1</th>\n",
       "      <td>800</td>\n",
       "      <td>[5025, 4676, 5076, 3020, 3063, 6322, 377, 4824...</td>\n",
       "    </tr>\n",
       "    <tr>\n",
       "      <th>2</th>\n",
       "      <td>320</td>\n",
       "      <td>[3063, 1855, 377, 5076, 5025, 2422, 2892, 5510...</td>\n",
       "    </tr>\n",
       "    <tr>\n",
       "      <th>3</th>\n",
       "      <td>1440</td>\n",
       "      <td>[5967, 5551, 5692, 2028, 5626, 2308, 2335, 575...</td>\n",
       "    </tr>\n",
       "    <tr>\n",
       "      <th>4</th>\n",
       "      <td>480</td>\n",
       "      <td>[6030, 1855, 5646, 1497, 7500, 682, 2989, 2308...</td>\n",
       "    </tr>\n",
       "    <tr>\n",
       "      <th>5</th>\n",
       "      <td>0</td>\n",
       "      <td>[448, 360, 2335, 5211, 4134, 3191, 1757, 682, ...</td>\n",
       "    </tr>\n",
       "    <tr>\n",
       "      <th>6</th>\n",
       "      <td>1600</td>\n",
       "      <td>[5692, 5551, 5967, 2028, 6118, 2335, 6044, 230...</td>\n",
       "    </tr>\n",
       "    <tr>\n",
       "      <th>7</th>\n",
       "      <td>640</td>\n",
       "      <td>[6609, 6915, 6820, 2670, 6952, 6950, 6603, 532...</td>\n",
       "    </tr>\n",
       "    <tr>\n",
       "      <th>8</th>\n",
       "      <td>960</td>\n",
       "      <td>[377, 3063, 2422, 448, 208, 1855, 360, 1713, 4...</td>\n",
       "    </tr>\n",
       "    <tr>\n",
       "      <th>9</th>\n",
       "      <td>1120</td>\n",
       "      <td>[6030, 5692, 3063, 5551, 1291, 2028, 5879, 575...</td>\n",
       "    </tr>\n",
       "  </tbody>\n",
       "</table>\n",
       "</div>"
      ],
      "text/plain": [
       "   userIndex                                   conEpIndex_top_n\n",
       "0        160  [5751, 5692, 5551, 2308, 5967, 2028, 2193, 233...\n",
       "1        800  [5025, 4676, 5076, 3020, 3063, 6322, 377, 4824...\n",
       "2        320  [3063, 1855, 377, 5076, 5025, 2422, 2892, 5510...\n",
       "3       1440  [5967, 5551, 5692, 2028, 5626, 2308, 2335, 575...\n",
       "4        480  [6030, 1855, 5646, 1497, 7500, 682, 2989, 2308...\n",
       "5          0  [448, 360, 2335, 5211, 4134, 3191, 1757, 682, ...\n",
       "6       1600  [5692, 5551, 5967, 2028, 6118, 2335, 6044, 230...\n",
       "7        640  [6609, 6915, 6820, 2670, 6952, 6950, 6603, 532...\n",
       "8        960  [377, 3063, 2422, 448, 208, 1855, 360, 1713, 4...\n",
       "9       1120  [6030, 5692, 3063, 5551, 1291, 2028, 5879, 575..."
      ]
     },
     "execution_count": 67,
     "metadata": {},
     "output_type": "execute_result"
    }
   ],
   "source": [
    "recs_top.limit(10).toPandas()"
   ]
  },
  {
   "cell_type": "code",
   "execution_count": 16,
   "metadata": {
    "collapsed": true
   },
   "outputs": [],
   "source": [
    "recs_top2TUNS = (recs_top\n",
    "                 .rdd\n",
    "                 .map(lambda y : Row(user_topRecs\n",
    "                                             ='{},{}'.format(y.userIndex,\n",
    "                                                             ','.join([str(e) for e in y.conEpIndex_top_n])))\n",
    "                             )).toDF()\n",
    "\n",
    "\n",
    "\n",
    "(recs_top2TUNS\n",
    " .coalesce(1)\n",
    " .write\n",
    " .format(\"com.databricks.spark.csv\")\n",
    " .option(\"delimiter\", \"|\")\n",
    " .save(\"s3://c4-ati/ampapalika/rnn/dataHashed/MFPredRecs_top1000_Imp\"))"
   ]
  },
  {
   "cell_type": "code",
   "execution_count": null,
   "metadata": {
    "collapsed": true
   },
   "outputs": [],
   "source": [
    "trainData = (trainData\n",
    "             .rdd\n",
    "             .map(lambda y : Row(user_movie_score ='{},{},{}'.format(y.userIndex\n",
    "                                                                     ,y.conEpIndex\n",
    "                                                                    ,y.score))\n",
    "                             )).toDF()"
   ]
  },
  {
   "cell_type": "code",
   "execution_count": null,
   "metadata": {
    "collapsed": true
   },
   "outputs": [],
   "source": [
    "(trainData\n",
    " .coalesce(1)\n",
    " .write\n",
    " .format(\"com.databricks.spark.csv\")\n",
    " .option(\"delimiter\", \"|\")\n",
    " .save(\"s3://c4-ati/ampapalika/rnn/dataHashed/MFTrainData_top1000\"))"
   ]
  },
  {
   "cell_type": "code",
   "execution_count": null,
   "metadata": {
    "collapsed": true
   },
   "outputs": [],
   "source": [
    "sc.stop()"
   ]
  },
  {
   "cell_type": "code",
   "execution_count": null,
   "metadata": {
    "collapsed": true
   },
   "outputs": [],
   "source": [
    "\n",
    "test_input = test.map(lambda x:(x[0],x[1])) \n",
    "pred_test = model.predictAll(test_input)\n",
    "test_reorg = test.map(lambda x:((x[0],x[1]), x[2]))\n",
    "pred_reorg = pred_test.map(lambda x:((x[0],x[1]), x[2]))\n",
    "test_pred = test_reorg.join(pred_reorg)\n",
    "test_MSE = test_pred.map(lambda r: (r[1][0] - r[1][1])**2).mean()\n",
    "test_RMSE = sqrt(test_MSE)#1.0145549956596238\n"
   ]
  },
  {
   "cell_type": "code",
   "execution_count": 34,
   "metadata": {
    "collapsed": true
   },
   "outputs": [],
   "source": [
    "testRatings = testData.rdd.map(lambda y: Rating(int(y.userIndex), int(y.conEpIndex), int(1)))"
   ]
  },
  {
   "cell_type": "code",
   "execution_count": 35,
   "metadata": {
    "collapsed": false
   },
   "outputs": [
    {
     "name": "stdout",
     "output_type": "stream",
     "text": [
      "Root Mean Squared Error = 0.935848085255\n"
     ]
    }
   ],
   "source": [
    "# Evaluate the model on training data\n",
    "testdata = testRatings.map(lambda p: (p[0], p[1]))\n",
    "predictions = MF.predictAll(testdata).map(lambda r: ((r[0], r[1]), r[2]))\n",
    "ratesAndPreds = testRatings.map(lambda r: ((r[0], r[1]), r[2])).join(predictions)\n",
    "MSE = ratesAndPreds.map(lambda r: (r[1][0] - r[1][1])**2).mean()\n",
    "print(\"Root Mean Squared Error = \" + str(math.sqrt(MSE)))\n",
    "\n",
    "# Save and load model\n",
    "#model.save(sc, \"target/tmp/myCollaborativeFilter\")\n",
    "#sameModel = MatrixFactorizationModel.load(sc, \"target/tmp/myCollaborativeFilter\")\n",
    "#RMSE = 0.158344518312 on alpha= 10 training data\n",
    "#RMSE = 0.0606729468497 on alpha= 40 training data\n",
    "#RMSE = 0.803327080391 on alpha= 40 test data with default reg\n",
    "#RMSE = 0.774325040526 on alpha= 40 test data with reg = 0.1, 10 iterations\n",
    "#RMSE = 0.774325040526 on alpha= 40 test data with reg = 0.1, 100 iterations\n",
    "#RMSE = 0.729284287153 on alpha= 40 test data with reg = 0.3, 100 iterations"
   ]
  },
  {
   "cell_type": "code",
   "execution_count": 38,
   "metadata": {
    "collapsed": false
   },
   "outputs": [
    {
     "data": {
      "text/plain": [
       "[((5902784, 15774), (1, 0.0)),\n",
       " ((2573520, 19278), (1, 0.0)),\n",
       " ((3750958, 25236), (1, 0.0)),\n",
       " ((1225941, 7761), (1, 0.0)),\n",
       " ((5643421, 17913), (1, 0.0)),\n",
       " ((3166895, 9060), (1, 0.0)),\n",
       " ((478109, 24462), (1, 0.0)),\n",
       " ((1225941, 7526), (1, 0.21623314845155656)),\n",
       " ((4248114, 21183), (1, 0.0)),\n",
       " ((2505278, 10675), (1, 0.14832797360586766)),\n",
       " ((1200078, 16835), (1, -0.04954018075254371)),\n",
       " ((3355169, 22058), (1, 0.0)),\n",
       " ((3984824, 4961), (1, 0.1362285869238025)),\n",
       " ((1017040, 18200), (1, 0.0)),\n",
       " ((3229272, 9664), (1, 0.0)),\n",
       " ((2391880, 22683), (1, 0.3610788357409026)),\n",
       " ((6023199, 7582), (1, 0.0)),\n",
       " ((2505278, 2169), (1, 0.0)),\n",
       " ((5847052, 14455), (1, 0.19836507534177455)),\n",
       " ((3239641, 7464), (1, 0.0)),\n",
       " ((5643421, 13389), (1, 1.070652344642829)),\n",
       " ((3841874, 6524), (1, 0.0)),\n",
       " ((3921906, 22940), (1, 0.0)),\n",
       " ((2573520, 20186), (1, 0.37998103803630046)),\n",
       " ((2156974, 3936), (1, 0.7350737086110657)),\n",
       " ((5092774, 18200), (1, 0.0)),\n",
       " ((1017040, 21114), (1, 0.0)),\n",
       " ((3239641, 4961), (1, 0.10971957294316655)),\n",
       " ((5815484, 17345), (1, 0.0)),\n",
       " ((5092774, 18263), (1, 0.0))]"
      ]
     },
     "execution_count": 38,
     "metadata": {},
     "output_type": "execute_result"
    }
   ],
   "source": [
    "ratesAndPreds.take(30)"
   ]
  },
  {
   "cell_type": "code",
   "execution_count": 36,
   "metadata": {
    "collapsed": false
   },
   "outputs": [
    {
     "data": {
      "text/plain": [
       "[((1093, 3456), 0.022167712131611218),\n",
       " ((837, 3456), -0.01684092398889704),\n",
       " ((712, 3456), 0.04205488958383137),\n",
       " ((76, 3456), 0.06445891817001834),\n",
       " ((19, 3456), 0.06339928117786331),\n",
       " ((211, 3456), 0.038138187363151915),\n",
       " ((853, 3456), 0.011638156235528045),\n",
       " ((1366, 3456), 0.021692979921598445),\n",
       " ((471, 3456), 0.05516708062804501),\n",
       " ((1304, 3456), 0.05329843456719508)]"
      ]
     },
     "execution_count": 36,
     "metadata": {},
     "output_type": "execute_result"
    }
   ],
   "source": [
    "predictions.take(10)\n",
    "#.toDF().toPandas()"
   ]
  },
  {
   "cell_type": "code",
   "execution_count": null,
   "metadata": {
    "collapsed": true
   },
   "outputs": [],
   "source": []
  },
  {
   "cell_type": "code",
   "execution_count": null,
   "metadata": {
    "collapsed": true
   },
   "outputs": [],
   "source": []
  },
  {
   "cell_type": "code",
   "execution_count": 18,
   "metadata": {
    "collapsed": true
   },
   "outputs": [],
   "source": [
    "def time_period(last_day, timeWindow):\n",
    "    \"\"\"Return a tuple of dates, of length timeWindow, previous to the given date.\"\"\"\n",
    "\n",
    "    try:\n",
    "        last_day = datetime.strptime(last_day, \"%Y-%m-%d\")\n",
    "    except:\n",
    "        pass\n",
    "\n",
    "    set_days = [last_day - timedelta(days=x) for x in range(0, timeWindow)]\n",
    "    days = tuple([day.strftime('%Y-%m-%d') for day in set_days])\n",
    "\n",
    "    return days\n",
    "\n",
    "last_day = '2016-11-30'\n",
    "test_period=91\n",
    "train_period=2000\n",
    "end = datetime.strptime(last_day, '%Y-%m-%d')\n",
    "date_diff = (end - timedelta(days=test_period))\n",
    "train_end = date_diff.strftime(\"%Y-%m-%d\")\n",
    "\n",
    "test_days = time_period(end, test_period)\n",
    "train_days = time_period(date_diff, train_period)\n",
    "fullDuration = time_period(end, test_period+train_period)"
   ]
  },
  {
   "cell_type": "code",
   "execution_count": 22,
   "metadata": {
    "collapsed": false
   },
   "outputs": [
    {
     "data": {
      "text/plain": [
       "('2011-03', '2016-11')"
      ]
     },
     "execution_count": 22,
     "metadata": {},
     "output_type": "execute_result"
    }
   ],
   "source": [
    "fullDuration = time_period(end, test_period+train_period)\n",
    "from_date = min(fullDuration)\n",
    "to_date = max(fullDuration)\n",
    "\n",
    "from_month = \"-\".join(from_date.split(\"-\")[0:2])\n",
    "to_month = \"-\".join(to_date.split(\"-\")[0:2])\n",
    "from_month,to_month"
   ]
  },
  {
   "cell_type": "code",
   "execution_count": 23,
   "metadata": {
    "collapsed": true
   },
   "outputs": [],
   "source": [
    "fullDuration = time_period(end, test_period+train_period)\n",
    "from_date = min(fullDuration)\n",
    "to_date = max(fullDuration)\n",
    "\n",
    "from_month = \"-\".join(from_date.split(\"-\")[0:2])\n",
    "to_month = \"-\".join(to_date.split(\"-\")[0:2])\n",
    "\n",
    "#     hit_month >= '{from_month}' AND\n",
    "#     hit_month <= '{to_month}' AND\n",
    "#     B.hit_month = '2016-11' AND\n",
    "#     B.hit_day = '12' AND\n",
    "\n",
    "# Find the number of views each user has for Negative samples\n",
    "conViewsNS = sqlContext.sql(\"\"\"SELECT\n",
    "    abs(hash(scv_id)) as user,\n",
    "    contract_number as contract,\n",
    "    episode_number as episode,\n",
    "    concat(cast(contract_number as int),'_',cast(episode_number as int)) as conEpID,\n",
    "    max(local_date_key) as dateWatched,\n",
    "    max(date_time) as timeWatched,\n",
    "    max(datasource) as datasource,\n",
    "    max(is_milestone_25) as is_milestone_25,\n",
    "    max(is_milestone_50) as is_milestone_50,\n",
    "    max(is_milestone_75) as is_milestone_75,\n",
    "    max(is_video_completion) as is_video_completion, \n",
    "    sum(is_milestone_25) as p25,\n",
    "    sum(is_milestone_50) as p50,\n",
    "    sum(is_milestone_75) as p75,\n",
    "    sum(is_video_completion) as p100,\n",
    "    COUNT(*) as views\n",
    "FROM omnitureweb_Log\n",
    "WHERE\n",
    "    contract_number > 0 AND \n",
    "    episode_number > 0 AND \n",
    "    is_logged_in = 1 AND\n",
    "    hit_month >= '{from_month}' AND\n",
    "    hit_month <= '{to_month}'\n",
    "GROUP BY\n",
    "    abs(hash(scv_id)),\n",
    "    contract_number,\n",
    "    episode_number\n",
    " \"\"\".format(from_month=from_month, to_month=to_month))\n",
    "#.format(from_month=from_month, to_month=to_month)\n"
   ]
  },
  {
   "cell_type": "code",
   "execution_count": 24,
   "metadata": {
    "collapsed": false
   },
   "outputs": [],
   "source": [
    "topTUsers = sqlContext.read.parquet(\"s3://c4-ati/ampapalika/rnn/dataHashed/top2TUsersGenre\")\n",
    "conViewsNS = (conViewsNS.alias(\"conViewsNS\")\n",
    "            .join(topTUsers, [topTUsers.user ==conViewsNS.user], 'inner')\n",
    "            .select('conViewsNS.*'))"
   ]
  },
  {
   "cell_type": "code",
   "execution_count": 25,
   "metadata": {
    "collapsed": false
   },
   "outputs": [],
   "source": [
    "conViewsNS = (conViewsNS\n",
    "               .filter(conViewsNS.p25 ==0)\n",
    "              .filter(conViewsNS.p50 ==0)\n",
    "               .filter(conViewsNS.p75 ==0)\n",
    "               .filter(conViewsNS.p100 ==0)              \n",
    "              ).cache()"
   ]
  },
  {
   "cell_type": "code",
   "execution_count": 26,
   "metadata": {
    "collapsed": false
   },
   "outputs": [
    {
     "data": {
      "text/html": [
       "<div>\n",
       "<table border=\"1\" class=\"dataframe\">\n",
       "  <thead>\n",
       "    <tr style=\"text-align: right;\">\n",
       "      <th></th>\n",
       "      <th>user</th>\n",
       "      <th>contract</th>\n",
       "      <th>episode</th>\n",
       "      <th>conEpID</th>\n",
       "      <th>dateWatched</th>\n",
       "      <th>timeWatched</th>\n",
       "      <th>datasource</th>\n",
       "      <th>is_milestone_25</th>\n",
       "      <th>is_milestone_50</th>\n",
       "      <th>is_milestone_75</th>\n",
       "      <th>is_video_completion</th>\n",
       "      <th>p25</th>\n",
       "      <th>p50</th>\n",
       "      <th>p75</th>\n",
       "      <th>p100</th>\n",
       "      <th>views</th>\n",
       "    </tr>\n",
       "  </thead>\n",
       "  <tbody>\n",
       "    <tr>\n",
       "      <th>0</th>\n",
       "      <td>349092</td>\n",
       "      <td>61204</td>\n",
       "      <td>34</td>\n",
       "      <td>61204_34</td>\n",
       "      <td>20160922</td>\n",
       "      <td>2016-09-22T02:16:02</td>\n",
       "      <td>channel4dotcom</td>\n",
       "      <td>0</td>\n",
       "      <td>0</td>\n",
       "      <td>0</td>\n",
       "      <td>0</td>\n",
       "      <td>0</td>\n",
       "      <td>0</td>\n",
       "      <td>0</td>\n",
       "      <td>0</td>\n",
       "      <td>1</td>\n",
       "    </tr>\n",
       "    <tr>\n",
       "      <th>1</th>\n",
       "      <td>5175312</td>\n",
       "      <td>63216</td>\n",
       "      <td>17</td>\n",
       "      <td>63216_17</td>\n",
       "      <td>20160519</td>\n",
       "      <td>2016-05-19T21:58:48</td>\n",
       "      <td>channel4dotcom</td>\n",
       "      <td>0</td>\n",
       "      <td>0</td>\n",
       "      <td>0</td>\n",
       "      <td>0</td>\n",
       "      <td>0</td>\n",
       "      <td>0</td>\n",
       "      <td>0</td>\n",
       "      <td>0</td>\n",
       "      <td>1</td>\n",
       "    </tr>\n",
       "    <tr>\n",
       "      <th>2</th>\n",
       "      <td>11200235</td>\n",
       "      <td>54800</td>\n",
       "      <td>1</td>\n",
       "      <td>54800_1</td>\n",
       "      <td>20150727</td>\n",
       "      <td>2015-07-27T09:35:54</td>\n",
       "      <td>channel4dotcom</td>\n",
       "      <td>0</td>\n",
       "      <td>0</td>\n",
       "      <td>0</td>\n",
       "      <td>0</td>\n",
       "      <td>0</td>\n",
       "      <td>0</td>\n",
       "      <td>0</td>\n",
       "      <td>0</td>\n",
       "      <td>1</td>\n",
       "    </tr>\n",
       "    <tr>\n",
       "      <th>3</th>\n",
       "      <td>11200235</td>\n",
       "      <td>60961</td>\n",
       "      <td>3</td>\n",
       "      <td>60961_3</td>\n",
       "      <td>20150926</td>\n",
       "      <td>2015-09-26T20:12:36</td>\n",
       "      <td>channel4dotcom</td>\n",
       "      <td>0</td>\n",
       "      <td>0</td>\n",
       "      <td>0</td>\n",
       "      <td>0</td>\n",
       "      <td>0</td>\n",
       "      <td>0</td>\n",
       "      <td>0</td>\n",
       "      <td>0</td>\n",
       "      <td>2</td>\n",
       "    </tr>\n",
       "    <tr>\n",
       "      <th>4</th>\n",
       "      <td>13718887</td>\n",
       "      <td>58207</td>\n",
       "      <td>8</td>\n",
       "      <td>58207_8</td>\n",
       "      <td>20140514</td>\n",
       "      <td>2014-05-14T14:19:15</td>\n",
       "      <td>channel4dotcom</td>\n",
       "      <td>0</td>\n",
       "      <td>0</td>\n",
       "      <td>0</td>\n",
       "      <td>0</td>\n",
       "      <td>0</td>\n",
       "      <td>0</td>\n",
       "      <td>0</td>\n",
       "      <td>0</td>\n",
       "      <td>6</td>\n",
       "    </tr>\n",
       "    <tr>\n",
       "      <th>5</th>\n",
       "      <td>15481881</td>\n",
       "      <td>52174</td>\n",
       "      <td>23</td>\n",
       "      <td>52174_23</td>\n",
       "      <td>20160209</td>\n",
       "      <td>2016-02-09T19:35:22</td>\n",
       "      <td>channel4dotcom</td>\n",
       "      <td>0</td>\n",
       "      <td>0</td>\n",
       "      <td>0</td>\n",
       "      <td>0</td>\n",
       "      <td>0</td>\n",
       "      <td>0</td>\n",
       "      <td>0</td>\n",
       "      <td>0</td>\n",
       "      <td>1</td>\n",
       "    </tr>\n",
       "    <tr>\n",
       "      <th>6</th>\n",
       "      <td>15481881</td>\n",
       "      <td>60263</td>\n",
       "      <td>1</td>\n",
       "      <td>60263_1</td>\n",
       "      <td>20161121</td>\n",
       "      <td>2016-11-21T23:02:17</td>\n",
       "      <td>channel4dotcom</td>\n",
       "      <td>0</td>\n",
       "      <td>0</td>\n",
       "      <td>0</td>\n",
       "      <td>0</td>\n",
       "      <td>0</td>\n",
       "      <td>0</td>\n",
       "      <td>0</td>\n",
       "      <td>0</td>\n",
       "      <td>1</td>\n",
       "    </tr>\n",
       "    <tr>\n",
       "      <th>7</th>\n",
       "      <td>19852060</td>\n",
       "      <td>60448</td>\n",
       "      <td>15</td>\n",
       "      <td>60448_15</td>\n",
       "      <td>20150525</td>\n",
       "      <td>2015-05-25T08:05:37</td>\n",
       "      <td>channel4dotcom</td>\n",
       "      <td>0</td>\n",
       "      <td>0</td>\n",
       "      <td>0</td>\n",
       "      <td>0</td>\n",
       "      <td>0</td>\n",
       "      <td>0</td>\n",
       "      <td>0</td>\n",
       "      <td>0</td>\n",
       "      <td>2</td>\n",
       "    </tr>\n",
       "    <tr>\n",
       "      <th>8</th>\n",
       "      <td>19852060</td>\n",
       "      <td>61526</td>\n",
       "      <td>1</td>\n",
       "      <td>61526_1</td>\n",
       "      <td>20150428</td>\n",
       "      <td>2015-04-28T17:34:47</td>\n",
       "      <td>channel4dotcom</td>\n",
       "      <td>0</td>\n",
       "      <td>0</td>\n",
       "      <td>0</td>\n",
       "      <td>0</td>\n",
       "      <td>0</td>\n",
       "      <td>0</td>\n",
       "      <td>0</td>\n",
       "      <td>0</td>\n",
       "      <td>5</td>\n",
       "    </tr>\n",
       "    <tr>\n",
       "      <th>9</th>\n",
       "      <td>26463312</td>\n",
       "      <td>26128</td>\n",
       "      <td>10</td>\n",
       "      <td>26128_10</td>\n",
       "      <td>20130716</td>\n",
       "      <td>2013-07-16T22:21:16</td>\n",
       "      <td>channel4dotcom</td>\n",
       "      <td>0</td>\n",
       "      <td>0</td>\n",
       "      <td>0</td>\n",
       "      <td>0</td>\n",
       "      <td>0</td>\n",
       "      <td>0</td>\n",
       "      <td>0</td>\n",
       "      <td>0</td>\n",
       "      <td>1</td>\n",
       "    </tr>\n",
       "  </tbody>\n",
       "</table>\n",
       "</div>"
      ],
      "text/plain": [
       "       user  contract  episode   conEpID  dateWatched          timeWatched  \\\n",
       "0    349092     61204       34  61204_34     20160922  2016-09-22T02:16:02   \n",
       "1   5175312     63216       17  63216_17     20160519  2016-05-19T21:58:48   \n",
       "2  11200235     54800        1   54800_1     20150727  2015-07-27T09:35:54   \n",
       "3  11200235     60961        3   60961_3     20150926  2015-09-26T20:12:36   \n",
       "4  13718887     58207        8   58207_8     20140514  2014-05-14T14:19:15   \n",
       "5  15481881     52174       23  52174_23     20160209  2016-02-09T19:35:22   \n",
       "6  15481881     60263        1   60263_1     20161121  2016-11-21T23:02:17   \n",
       "7  19852060     60448       15  60448_15     20150525  2015-05-25T08:05:37   \n",
       "8  19852060     61526        1   61526_1     20150428  2015-04-28T17:34:47   \n",
       "9  26463312     26128       10  26128_10     20130716  2013-07-16T22:21:16   \n",
       "\n",
       "       datasource  is_milestone_25  is_milestone_50  is_milestone_75  \\\n",
       "0  channel4dotcom                0                0                0   \n",
       "1  channel4dotcom                0                0                0   \n",
       "2  channel4dotcom                0                0                0   \n",
       "3  channel4dotcom                0                0                0   \n",
       "4  channel4dotcom                0                0                0   \n",
       "5  channel4dotcom                0                0                0   \n",
       "6  channel4dotcom                0                0                0   \n",
       "7  channel4dotcom                0                0                0   \n",
       "8  channel4dotcom                0                0                0   \n",
       "9  channel4dotcom                0                0                0   \n",
       "\n",
       "   is_video_completion  p25  p50  p75  p100  views  \n",
       "0                    0    0    0    0     0      1  \n",
       "1                    0    0    0    0     0      1  \n",
       "2                    0    0    0    0     0      1  \n",
       "3                    0    0    0    0     0      2  \n",
       "4                    0    0    0    0     0      6  \n",
       "5                    0    0    0    0     0      1  \n",
       "6                    0    0    0    0     0      1  \n",
       "7                    0    0    0    0     0      2  \n",
       "8                    0    0    0    0     0      5  \n",
       "9                    0    0    0    0     0      1  "
      ]
     },
     "execution_count": 26,
     "metadata": {},
     "output_type": "execute_result"
    }
   ],
   "source": [
    "conViewsNS.limit(10).toPandas()"
   ]
  },
  {
   "cell_type": "code",
   "execution_count": 27,
   "metadata": {
    "collapsed": false
   },
   "outputs": [
    {
     "data": {
      "text/plain": [
       "222832"
      ]
     },
     "execution_count": 27,
     "metadata": {},
     "output_type": "execute_result"
    }
   ],
   "source": [
    "conViewsNS.count()"
   ]
  },
  {
   "cell_type": "code",
   "execution_count": 28,
   "metadata": {
    "collapsed": true
   },
   "outputs": [],
   "source": [
    "conViewsNS.write.parquet(\"s3://c4-ati/ampapalika/rnn/dataHashed/conViewsNS2T_2011-03_2016-11\")"
   ]
  },
  {
   "cell_type": "code",
   "execution_count": 4,
   "metadata": {
    "collapsed": true
   },
   "outputs": [],
   "source": [
    "conViewsNS = sqlContext.read.parquet(\"s3://c4-ati/ampapalika/rnn/dataHashed/conViewsNS2T_2011-03_2016-11\")"
   ]
  },
  {
   "cell_type": "code",
   "execution_count": 12,
   "metadata": {
    "collapsed": false
   },
   "outputs": [
    {
     "data": {
      "text/plain": [
       "('2015-09', '2016-11')"
      ]
     },
     "execution_count": 12,
     "metadata": {},
     "output_type": "execute_result"
    }
   ],
   "source": [
    "last_day = '2016-11-30'\n",
    "test_period=91\n",
    "train_period=366\n",
    "end = datetime.strptime(last_day, '%Y-%m-%d')\n",
    "date_diff = (end - timedelta(days=test_period))\n",
    "train_end = date_diff.strftime(\"%Y-%m-%d\")\n",
    "\n",
    "test_days = time_period(end, test_period)\n",
    "train_days = time_period(date_diff, train_period)\n",
    "fullDuration = time_period(end, test_period+train_period)\n",
    "\n",
    "fullDuration = time_period(end, test_period+train_period)\n",
    "from_date = min(fullDuration)\n",
    "to_date = max(fullDuration)\n",
    "\n",
    "from_month = \"-\".join(from_date.split(\"-\")[0:2])\n",
    "to_month = \"-\".join(to_date.split(\"-\")[0:2])\n",
    "from_month, to_month"
   ]
  },
  {
   "cell_type": "code",
   "execution_count": 13,
   "metadata": {
    "collapsed": true
   },
   "outputs": [],
   "source": [
    "conViewsNS2 = conViewsNS.filter(conViewsNS.dateWatched > 20150901)"
   ]
  },
  {
   "cell_type": "code",
   "execution_count": 14,
   "metadata": {
    "collapsed": false
   },
   "outputs": [
    {
     "data": {
      "text/plain": [
       "36972086"
      ]
     },
     "execution_count": 14,
     "metadata": {},
     "output_type": "execute_result"
    }
   ],
   "source": [
    "conViewsNS2.count()"
   ]
  },
  {
   "cell_type": "code",
   "execution_count": 17,
   "metadata": {
    "collapsed": false
   },
   "outputs": [
    {
     "data": {
      "text/plain": [
       "123667"
      ]
     },
     "execution_count": 17,
     "metadata": {},
     "output_type": "execute_result"
    }
   ],
   "source": [
    "conViewsNS.count()"
   ]
  },
  {
   "cell_type": "code",
   "execution_count": null,
   "metadata": {
    "collapsed": true
   },
   "outputs": [],
   "source": []
  }
 ],
 "metadata": {
  "kernelspec": {
   "display_name": "Python [Root]",
   "language": "python",
   "name": "Python [Root]"
  },
  "language_info": {
   "codemirror_mode": {
    "name": "ipython",
    "version": 2
   },
   "file_extension": ".py",
   "mimetype": "text/x-python",
   "name": "python",
   "nbconvert_exporter": "python",
   "pygments_lexer": "ipython2",
   "version": "2.7.12"
  }
 },
 "nbformat": 4,
 "nbformat_minor": 1
}
